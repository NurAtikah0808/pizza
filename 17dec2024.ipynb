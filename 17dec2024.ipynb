{
  "nbformat": 4,
  "nbformat_minor": 0,
  "metadata": {
    "colab": {
      "provenance": [],
      "authorship_tag": "ABX9TyPw6Dtg6X/9V2sHwGXEhz0N",
      "include_colab_link": true
    },
    "kernelspec": {
      "name": "python3",
      "display_name": "Python 3"
    },
    "language_info": {
      "name": "python"
    }
  },
  "cells": [
    {
      "cell_type": "markdown",
      "metadata": {
        "id": "view-in-github",
        "colab_type": "text"
      },
      "source": [
        "<a href=\"https://colab.research.google.com/github/NurAtikah0808/pizza/blob/main/17dec2024.ipynb\" target=\"_parent\"><img src=\"https://colab.research.google.com/assets/colab-badge.svg\" alt=\"Open In Colab\"/></a>"
      ]
    },
    {
      "cell_type": "code",
      "execution_count": 1,
      "metadata": {
        "colab": {
          "base_uri": "https://localhost:8080/"
        },
        "id": "2yleAn4k2tre",
        "outputId": "1dc92abc-2a02-4b74-c921-12930c8610d7"
      },
      "outputs": [
        {
          "output_type": "stream",
          "name": "stdout",
          "text": [
            "Enter your total pizza order amount (RM): 20\n",
            "No discount applied. Thank you for your order!\n"
          ]
        }
      ],
      "source": [
        "order_amount = float (input (\"Enter your total pizza order amount (RM): \"))\n",
        "\n",
        "if order_amount > 100:\n",
        "  discount = 0.15 * order_amount\n",
        "  print (f\"You get a 15% discount of RM {discount :.2f} !\")\n",
        "else:\n",
        "  print (\"No discount applied. Thank you for your order!\")"
      ]
    },
    {
      "cell_type": "code",
      "source": [
        "# check pizza availability\n",
        "available_pizzas = [\"Margherita\", \"Pepperoni\", \"BBQ Chicken\", \"Veggie\"]\n",
        "selected_pizza = input (\"Enter the name of the pizza you want: \").title()\n",
        "\n",
        "if selected_pizza in available_pizzas:\n",
        "  print (f\"{selected_pizza} is available!\")\n",
        "\n",
        "else:\n",
        "print (f\"Sorry, {selected_pizza} is not on the menu.\")"
      ],
      "metadata": {
        "colab": {
          "base_uri": "https://localhost:8080/",
          "height": 106
        },
        "id": "EyyVMSds3n9G",
        "outputId": "284fd46e-d578-4643-e50d-aa5ac51c905d"
      },
      "execution_count": 15,
      "outputs": [
        {
          "output_type": "error",
          "ename": "IndentationError",
          "evalue": "expected an indented block after 'else' statement on line 8 (<ipython-input-15-061fb6c0b3cc>, line 9)",
          "traceback": [
            "\u001b[0;36m  File \u001b[0;32m\"<ipython-input-15-061fb6c0b3cc>\"\u001b[0;36m, line \u001b[0;32m9\u001b[0m\n\u001b[0;31m    print (f\"Sorry, {selected_pizza} is not on the menu.\")\u001b[0m\n\u001b[0m    ^\u001b[0m\n\u001b[0;31mIndentationError\u001b[0m\u001b[0;31m:\u001b[0m expected an indented block after 'else' statement on line 8\n"
          ]
        }
      ]
    },
    {
      "cell_type": "code",
      "source": [
        "#loop\n",
        "menu = {\"Margherita\": 25, \"Pepperoni\" : 30, \"BBQ Chicken\" : 35, \"Veggie\" : 28}\n",
        "\n",
        "print (\"Pizza Menu:\")\n",
        "for pizza, price in menu.items():\n",
        "  print (f\"-{pizza}: RM{price}\")\n",
        ""
      ],
      "metadata": {
        "colab": {
          "base_uri": "https://localhost:8080/"
        },
        "id": "2Eyxz2eo-UYI",
        "outputId": "76f0f38b-3996-4bb5-85aa-ecce19b41b6c"
      },
      "execution_count": 8,
      "outputs": [
        {
          "output_type": "stream",
          "name": "stdout",
          "text": [
            "Pizza Menu:\n",
            "-Margherita: RM25\n",
            "-Pepperoni: RM30\n",
            "-BBQ Chicken: RM35\n",
            "-Veggie: RM28\n"
          ]
        }
      ]
    },
    {
      "cell_type": "code",
      "source": [
        "#Take multiple pizza orders\n",
        "\n",
        "menu = {\"Margherita\": 25, \"Pepperoni\": 30, \"BBQ Chicken\": 35, \"Veggie\": 28}\n",
        "order_list = []\n",
        "\n",
        "while True :\n",
        "  order = input (\"Enter a pizza name to order (or type 'done' to finish): \"). title ()\n",
        "  if order == 'Done' :\n",
        "    break\n",
        "  if order in menu :\n",
        "    order_list.append(order)\n",
        "\n",
        "  else:\n",
        "    print (\"We dont have that pizza.\")\n",
        "\n",
        "    print (\"\\nYour Orders:\")\n",
        "    for pizza in order_list:\n",
        "      print (f\" - {pizza}\")\n",
        ""
      ],
      "metadata": {
        "colab": {
          "base_uri": "https://localhost:8080/"
        },
        "id": "l-Bkup46AsN5",
        "outputId": "a4dec17e-4785-4536-f6ff-f87d847238e2"
      },
      "execution_count": 11,
      "outputs": [
        {
          "name": "stdout",
          "output_type": "stream",
          "text": [
            "Enter a pizza name to order (or type 'done' to finish): Veggie\n",
            "Enter a pizza name to order (or type 'done' to finish): done\n"
          ]
        }
      ]
    },
    {
      "cell_type": "code",
      "source": [
        "#fx to calculate total cost\n",
        "\n",
        "def calculate_total (order_list, menu):\n",
        "  return sum (menu[pizza] for pizza in order_list)\n",
        "\n",
        "  menu = {\"Marherita\": 25, \"Pepperoni\" : 30, \"BBQ Chicken\" : 35, \"Veggie\": 28}\n",
        "  order_list = [\"Margherita\" , \"Pepperoni\" , \"Veggie\"]\n",
        "\n",
        "  total_cost = calculate_total(order_list, menu)\n",
        "  print (f\"Total cost of your order is RM {total_cost}\")\n"
      ],
      "metadata": {
        "id": "6xNtwvqQ5k6u"
      },
      "execution_count": 13,
      "outputs": []
    },
    {
      "cell_type": "code",
      "source": [
        "#fx to display the menu\n",
        "def display_menu (menu):\n",
        "  print (\"Pizza Menu:\")\n",
        "  for pizza, price in menu.items():\n",
        "    print (f\"- {pizza}: RM {price}\")\n",
        "\n",
        "  menu = {\"Margherita\": 25, \"Pepproni\": 30, \"BBQ Chicken\": 35, \"Veggie\": 28}\n",
        "  display_menu(menu)"
      ],
      "metadata": {
        "id": "D3HbZ7rh6i1X"
      },
      "execution_count": 14,
      "outputs": []
    }
  ]
}